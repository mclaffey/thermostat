{
 "cells": [
  {
   "cell_type": "code",
   "execution_count": 1,
   "metadata": {
    "collapsed": true
   },
   "outputs": [],
   "source": [
    "import pandas as pd\n",
    "import lxml\n",
    "import html5lib"
   ]
  },
  {
   "cell_type": "code",
   "execution_count": 64,
   "metadata": {
    "collapsed": true
   },
   "outputs": [],
   "source": [
    "import datetime"
   ]
  },
  {
   "cell_type": "code",
   "execution_count": 48,
   "metadata": {
    "collapsed": false
   },
   "outputs": [],
   "source": [
    "# download data\n",
    "weather_tables = pd.read_html(\"http://w1.weather.gov/obhistory/KCLT.html\")"
   ]
  },
  {
   "cell_type": "code",
   "execution_count": 174,
   "metadata": {
    "collapsed": true
   },
   "outputs": [],
   "source": [
    "# column headings\n",
    "col_labels=\"\"\"\n",
    "day\n",
    "time\n",
    "wind_mph\n",
    "vis_mi\n",
    "weather\n",
    "sky\n",
    "temperature_f\n",
    "dewpoint_f\n",
    "temp_6hr_max\n",
    "temp_6hr_min\n",
    "humidity\n",
    "wind_chill_f\n",
    "heat_index_f\n",
    "pressure_in\n",
    "pressure_mb\n",
    "precipitation\n",
    "precipitation_3hr\n",
    "precipitation_6hr\n",
    "\"\"\"\n",
    "col_labels = col_labels.strip().split(\"\\n\")"
   ]
  },
  {
   "cell_type": "code",
   "execution_count": 175,
   "metadata": {
    "collapsed": true
   },
   "outputs": [],
   "source": [
    "# fix columns\n",
    "data = weather_tables[3].copy()\n",
    "\n",
    "# column names\n",
    "data.columns = col_labels\n",
    "data.drop(['temp_6hr_max', 'temp_6hr_min', 'precipitation_3hr', 'precipitation_6hr'], axis=1, inplace=True)"
   ]
  },
  {
   "cell_type": "code",
   "execution_count": 176,
   "metadata": {
    "collapsed": false
   },
   "outputs": [],
   "source": [
    "# remove the header and footer\n",
    "# this should be the top 3 and bottom 3 rows. But here I'll look for any rows that don't have an integer\n",
    "# in the day column\n",
    "def is_int(x):\n",
    "    try:\n",
    "        int(x)\n",
    "        return True\n",
    "    except:\n",
    "        return False\n",
    "i_is_int = (data.day.apply(is_int))\n",
    "data = data[i_is_int]"
   ]
  },
  {
   "cell_type": "code",
   "execution_count": 177,
   "metadata": {
    "collapsed": false
   },
   "outputs": [],
   "source": [
    "# remove % from humidity\n",
    "data.humidity = data.humidity.apply(lambda x: x.replace(\"%\", \"\"))"
   ]
  },
  {
   "cell_type": "code",
   "execution_count": 178,
   "metadata": {
    "collapsed": false
   },
   "outputs": [],
   "source": [
    "# make a date_time column\n",
    "data['month'] = datetime.datetime.today().month\n",
    "data['year'] = datetime.datetime.today().year\n",
    "data['datetime'] = data.month.apply(str) + \"/\" + data.day.apply(str) + \"/\" + data.year.apply(str) \\\n",
    "    + \" \" + data.time.apply(str)\n",
    "data['datetime'] = pd.to_datetime(data.datetime)\n",
    "\n",
    "data.drop(['day', 'month', 'year', 'time'], axis=1, inplace=True)\n",
    "cols = ['datetime'] + [_ for _ in data.columns if _ is not 'datetime']\n",
    "data = data[cols]\n",
    "#data.set_index('datetime', inplace=True)"
   ]
  },
  {
   "cell_type": "code",
   "execution_count": 180,
   "metadata": {
    "collapsed": false
   },
   "outputs": [],
   "source": [
    "# convert columns to numeric\n",
    "for col in ['vis_mi', 'temperature_f', 'dewpoint_f', 'humidity', 'wind_chill_f', 'heat_index_f',\n",
    "            'pressure_in', 'pressure_mb', 'precipitation']:\n",
    "    data[col] = pd.to_numeric(data[col], errors='raise')"
   ]
  },
  {
   "cell_type": "code",
   "execution_count": 181,
   "metadata": {
    "collapsed": false
   },
   "outputs": [
    {
     "data": {
      "text/html": [
       "<div>\n",
       "<table border=\"1\" class=\"dataframe\">\n",
       "  <thead>\n",
       "    <tr style=\"text-align: right;\">\n",
       "      <th></th>\n",
       "      <th>datetime</th>\n",
       "      <th>wind_mph</th>\n",
       "      <th>vis_mi</th>\n",
       "      <th>weather</th>\n",
       "      <th>sky</th>\n",
       "      <th>temperature_f</th>\n",
       "      <th>dewpoint_f</th>\n",
       "      <th>humidity</th>\n",
       "      <th>wind_chill_f</th>\n",
       "      <th>heat_index_f</th>\n",
       "      <th>pressure_in</th>\n",
       "      <th>pressure_mb</th>\n",
       "      <th>precipitation</th>\n",
       "    </tr>\n",
       "  </thead>\n",
       "  <tbody>\n",
       "    <tr>\n",
       "      <th>3</th>\n",
       "      <td>2016-04-06 11:52:00</td>\n",
       "      <td>Vrbl 6</td>\n",
       "      <td>10</td>\n",
       "      <td>Partly Cloudy</td>\n",
       "      <td>SCT250</td>\n",
       "      <td>51</td>\n",
       "      <td>21</td>\n",
       "      <td>31</td>\n",
       "      <td>NaN</td>\n",
       "      <td>NaN</td>\n",
       "      <td>30.35</td>\n",
       "      <td>1027.8</td>\n",
       "      <td>NaN</td>\n",
       "    </tr>\n",
       "    <tr>\n",
       "      <th>4</th>\n",
       "      <td>2016-04-06 10:52:00</td>\n",
       "      <td>SE 6</td>\n",
       "      <td>10</td>\n",
       "      <td>A Few Clouds</td>\n",
       "      <td>FEW250</td>\n",
       "      <td>48</td>\n",
       "      <td>20</td>\n",
       "      <td>33</td>\n",
       "      <td>45</td>\n",
       "      <td>NaN</td>\n",
       "      <td>30.38</td>\n",
       "      <td>1028.7</td>\n",
       "      <td>NaN</td>\n",
       "    </tr>\n",
       "    <tr>\n",
       "      <th>5</th>\n",
       "      <td>2016-04-06 09:52:00</td>\n",
       "      <td>S 7</td>\n",
       "      <td>10</td>\n",
       "      <td>A Few Clouds</td>\n",
       "      <td>FEW250</td>\n",
       "      <td>45</td>\n",
       "      <td>20</td>\n",
       "      <td>37</td>\n",
       "      <td>41</td>\n",
       "      <td>NaN</td>\n",
       "      <td>30.38</td>\n",
       "      <td>1028.6</td>\n",
       "      <td>NaN</td>\n",
       "    </tr>\n",
       "    <tr>\n",
       "      <th>6</th>\n",
       "      <td>2016-04-06 08:52:00</td>\n",
       "      <td>S 9</td>\n",
       "      <td>10</td>\n",
       "      <td>A Few Clouds</td>\n",
       "      <td>FEW250</td>\n",
       "      <td>42</td>\n",
       "      <td>22</td>\n",
       "      <td>45</td>\n",
       "      <td>37</td>\n",
       "      <td>NaN</td>\n",
       "      <td>30.37</td>\n",
       "      <td>1028.4</td>\n",
       "      <td>NaN</td>\n",
       "    </tr>\n",
       "    <tr>\n",
       "      <th>7</th>\n",
       "      <td>2016-04-06 07:52:00</td>\n",
       "      <td>SE 8</td>\n",
       "      <td>10</td>\n",
       "      <td>A Few Clouds</td>\n",
       "      <td>FEW250</td>\n",
       "      <td>38</td>\n",
       "      <td>23</td>\n",
       "      <td>55</td>\n",
       "      <td>32</td>\n",
       "      <td>NaN</td>\n",
       "      <td>30.36</td>\n",
       "      <td>1028.4</td>\n",
       "      <td>NaN</td>\n",
       "    </tr>\n",
       "  </tbody>\n",
       "</table>\n",
       "</div>"
      ],
      "text/plain": [
       "             datetime wind_mph  vis_mi        weather     sky  temperature_f  \\\n",
       "3 2016-04-06 11:52:00   Vrbl 6      10  Partly Cloudy  SCT250             51   \n",
       "4 2016-04-06 10:52:00     SE 6      10   A Few Clouds  FEW250             48   \n",
       "5 2016-04-06 09:52:00      S 7      10   A Few Clouds  FEW250             45   \n",
       "6 2016-04-06 08:52:00      S 9      10   A Few Clouds  FEW250             42   \n",
       "7 2016-04-06 07:52:00     SE 8      10   A Few Clouds  FEW250             38   \n",
       "\n",
       "   dewpoint_f  humidity  wind_chill_f  heat_index_f  pressure_in  pressure_mb  \\\n",
       "3          21        31           NaN           NaN        30.35       1027.8   \n",
       "4          20        33            45           NaN        30.38       1028.7   \n",
       "5          20        37            41           NaN        30.38       1028.6   \n",
       "6          22        45            37           NaN        30.37       1028.4   \n",
       "7          23        55            32           NaN        30.36       1028.4   \n",
       "\n",
       "   precipitation  \n",
       "3            NaN  \n",
       "4            NaN  \n",
       "5            NaN  \n",
       "6            NaN  \n",
       "7            NaN  "
      ]
     },
     "execution_count": 181,
     "metadata": {},
     "output_type": "execute_result"
    }
   ],
   "source": [
    "data.head()"
   ]
  },
  {
   "cell_type": "markdown",
   "metadata": {},
   "source": [
    "# Create database"
   ]
  },
  {
   "cell_type": "code",
   "execution_count": 103,
   "metadata": {
    "collapsed": true
   },
   "outputs": [],
   "source": [
    "import sqlite3"
   ]
  },
  {
   "cell_type": "code",
   "execution_count": 139,
   "metadata": {
    "collapsed": true
   },
   "outputs": [],
   "source": [
    "db = sqlite3.connect(\"weather.db\")\n",
    "db.row_factory= sqlite3.Row"
   ]
  },
  {
   "cell_type": "raw",
   "metadata": {},
   "source": [
    "tables = pd.read_sql(\"SELECT * FROM sqlite_master\", db)\n",
    "tables\n",
    "\n",
    "print tables.sql[0].replace(\"\\\"\", \"\")"
   ]
  },
  {
   "cell_type": "code",
   "execution_count": 182,
   "metadata": {
    "collapsed": false
   },
   "outputs": [],
   "source": [
    "sql = \"\"\"\n",
    "CREATE TABLE readings (\n",
    "  datetime TIMESTAMP PRIMARY KEY,\n",
    "  wind_mph TEXT,\n",
    "  vis_mi NUMERIC,\n",
    "  weather TEXT,\n",
    "  sky TEXT,\n",
    "  temperature_f NUMERIC,\n",
    "  dewpoint_f NUMERIC,\n",
    "  humidity NUMERIC,\n",
    "  wind_chill_f NUMERIC,\n",
    "  heat_index_f NUMERIC,\n",
    "  pressure_in NUMERIC,\n",
    "  pressure_mb NUMERIC,\n",
    "  precipitation NUMERIC\n",
    ")\n",
    "\"\"\"\n",
    "db.execute(\"DROP TABLE IF EXISTS readings\")\n",
    "db.execute(sql)\n",
    "db.commit()"
   ]
  },
  {
   "cell_type": "markdown",
   "metadata": {},
   "source": [
    "# Append to database"
   ]
  },
  {
   "cell_type": "code",
   "execution_count": 191,
   "metadata": {
    "collapsed": false
   },
   "outputs": [],
   "source": [
    "import IPython.display"
   ]
  },
  {
   "cell_type": "code",
   "execution_count": 200,
   "metadata": {
    "collapsed": false
   },
   "outputs": [
    {
     "name": "stdout",
     "output_type": "stream",
     "text": [
      "0 added, 72 duplicated\n"
     ]
    }
   ],
   "source": [
    "added = 0\n",
    "duplicated = 0\n",
    "for i,row in data.iterrows():\n",
    "    row = row.to_frame().T\n",
    "    row.set_index('datetime', inplace=True)\n",
    "    #IPython.display.display(row)\n",
    "    try:\n",
    "        row.to_sql(\"readings\", db, if_exists='append')\n",
    "        added += 1\n",
    "    except sqlite3.IntegrityError:\n",
    "        duplicated += 1        \n",
    "\n",
    "db.commit()\n",
    "print \"{} added, {} duplicated\".format(added, duplicated)"
   ]
  }
 ],
 "metadata": {
  "kernelspec": {
   "display_name": "Python 2",
   "language": "python",
   "name": "python2"
  },
  "language_info": {
   "codemirror_mode": {
    "name": "ipython",
    "version": 2
   },
   "file_extension": ".py",
   "mimetype": "text/x-python",
   "name": "python",
   "nbconvert_exporter": "python",
   "pygments_lexer": "ipython2",
   "version": "2.7.5"
  }
 },
 "nbformat": 4,
 "nbformat_minor": 0
}
