{
 "cells": [
  {
   "cell_type": "raw",
   "metadata": {
    "collapsed": true
   },
   "source": [
    "import pandas as pd\n",
    "import datetime\n",
    "import sqlite3"
   ]
  },
  {
   "cell_type": "code",
   "execution_count": 1,
   "metadata": {
    "collapsed": true
   },
   "outputs": [],
   "source": [
    "import weather"
   ]
  },
  {
   "cell_type": "raw",
   "metadata": {},
   "source": [
    "reload(weather);"
   ]
  },
  {
   "cell_type": "code",
   "execution_count": 3,
   "metadata": {
    "collapsed": false
   },
   "outputs": [
    {
     "name": "stdout",
     "output_type": "stream",
     "text": [
      "0 added, 72 already existed\n"
     ]
    },
    {
     "data": {
      "text/plain": [
       "(0, 72)"
      ]
     },
     "execution_count": 3,
     "metadata": {},
     "output_type": "execute_result"
    }
   ],
   "source": [
    "weather.query_and_save(\"weather.db\", verbose=True)"
   ]
  },
  {
   "cell_type": "code",
   "execution_count": null,
   "metadata": {
    "collapsed": true
   },
   "outputs": [],
   "source": [
    "data1 = weather.query_weather_web()"
   ]
  },
  {
   "cell_type": "code",
   "execution_count": null,
   "metadata": {
    "collapsed": true
   },
   "outputs": [],
   "source": [
    "data2 = weather.clean_weather_table(data1)"
   ]
  },
  {
   "cell_type": "code",
   "execution_count": null,
   "metadata": {
    "collapsed": false
   },
   "outputs": [],
   "source": [
    "data2.head()"
   ]
  },
  {
   "cell_type": "code",
   "execution_count": null,
   "metadata": {
    "collapsed": true
   },
   "outputs": [],
   "source": [
    "db = sqlite3.connect(\"weather.db\")"
   ]
  },
  {
   "cell_type": "code",
   "execution_count": null,
   "metadata": {
    "collapsed": true
   },
   "outputs": [],
   "source": [
    "weather.setup_table(db)"
   ]
  },
  {
   "cell_type": "code",
   "execution_count": null,
   "metadata": {
    "collapsed": false
   },
   "outputs": [],
   "source": [
    "weather.append_records(db, data2)"
   ]
  },
  {
   "cell_type": "code",
   "execution_count": null,
   "metadata": {
    "collapsed": false
   },
   "outputs": [],
   "source": [
    "# make a date_time column\n",
    "data['month'] = datetime.datetime.today().month\n",
    "data['year'] = datetime.datetime.today().year\n",
    "data['datetime'] = data.month.apply(str) + \"/\" + data.day.apply(str) + \"/\" + data.year.apply(str) \\\n",
    "    + \" \" + data.time.apply(str)\n",
    "data['datetime'] = pd.to_datetime(data.datetime)\n",
    "\n",
    "data.drop(['day', 'month', 'year', 'time'], axis=1, inplace=True)\n",
    "cols = ['datetime'] + [_ for _ in data.columns if _ is not 'datetime']\n",
    "data = data[cols]\n",
    "#data.set_index('datetime', inplace=True)"
   ]
  },
  {
   "cell_type": "markdown",
   "metadata": {},
   "source": [
    "# Append to database"
   ]
  },
  {
   "cell_type": "code",
   "execution_count": null,
   "metadata": {
    "collapsed": true
   },
   "outputs": [],
   "source": [
    "db = sqlite3.connect(\"weather.db\")"
   ]
  },
  {
   "cell_type": "code",
   "execution_count": null,
   "metadata": {
    "collapsed": false
   },
   "outputs": [],
   "source": [
    "added = 0\n",
    "duplicated = 0\n",
    "for i,row in data.iterrows():\n",
    "    row = row.to_frame().T\n",
    "    row.set_index('datetime', inplace=True)\n",
    "    try:\n",
    "        row.to_sql(\"readings\", db, if_exists='append')\n",
    "        added += 1\n",
    "    except sqlite3.IntegrityError:\n",
    "        duplicated += 1        \n",
    "\n",
    "db.commit()\n",
    "print \"{} added, {} duplicated\".format(added, duplicated)"
   ]
  }
 ],
 "metadata": {
  "kernelspec": {
   "display_name": "Python 2",
   "language": "python",
   "name": "python2"
  },
  "language_info": {
   "codemirror_mode": {
    "name": "ipython",
    "version": 2
   },
   "file_extension": ".py",
   "mimetype": "text/x-python",
   "name": "python",
   "nbconvert_exporter": "python",
   "pygments_lexer": "ipython2",
   "version": "2.7.5"
  }
 },
 "nbformat": 4,
 "nbformat_minor": 0
}
