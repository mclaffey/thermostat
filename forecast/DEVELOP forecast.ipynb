{
 "cells": [
  {
   "cell_type": "code",
   "execution_count": 1,
   "metadata": {
    "collapsed": true
   },
   "outputs": [],
   "source": [
    "import urllib2\n",
    "import json\n",
    "import sqlite3\n",
    "import datetime"
   ]
  },
  {
   "cell_type": "code",
   "execution_count": 2,
   "metadata": {
    "collapsed": true
   },
   "outputs": [],
   "source": [
    "url=\"http://api.wunderground.com/api/9836d881af5d6fc2/hourly/q/NC/Charlotte.json\""
   ]
  },
  {
   "cell_type": "code",
   "execution_count": 3,
   "metadata": {
    "collapsed": true
   },
   "outputs": [],
   "source": [
    "f = urllib2.urlopen(url)\n",
    "json_string = f.read()\n",
    "f.close()\n",
    "\n",
    "parsed_json = json.loads(json_string)\n",
    "\n",
    "forecast_list = parsed_json['hourly_forecast']\n",
    "\n",
    "forecast_tuples = [(datetime.datetime.strptime(forecast['FCTTIME']['pretty'], '%I:%M %p %Z on %B %d, %Y'),\n",
    "                    int(forecast['temp']['english']))\n",
    "                   for forecast in forecast_list]"
   ]
  },
  {
   "cell_type": "markdown",
   "metadata": {},
   "source": [
    "# Setup Database"
   ]
  },
  {
   "cell_type": "code",
   "execution_count": 11,
   "metadata": {
    "collapsed": true
   },
   "outputs": [],
   "source": [
    "# connnect\n",
    "db = sqlite3.connect(\"../data/forecast.db\")"
   ]
  },
  {
   "cell_type": "raw",
   "metadata": {},
   "source": [
    "# setup table and index\n",
    "sql = \"\"\"\n",
    "CREATE TABLE forecasts(\n",
    "  create_datetime DATETIME DEFAULT CURRENT_TIMESTAMP,\n",
    "  is_latest BOOLEAN default(1),\n",
    "  forecast_datetime DATETIME,\n",
    "  temperature NUMERIC)\n",
    "\"\"\"\n",
    "db.execute(\"DROP TABLE IF EXISTS forecasts\")\n",
    "db.execute(sql)\n",
    "\n",
    "db.execute(\"DROP INDEX IF EXISTS forecast_unique\")\n",
    "db.execute(\"CREATE UNIQUE INDEX forecast_unique ON forecasts(create_datetime, forecast_datetime)\")\n",
    "db.commit()"
   ]
  },
  {
   "cell_type": "code",
   "execution_count": null,
   "metadata": {
    "collapsed": false
   },
   "outputs": [],
   "source": [
    "# clear is_latest flags\n",
    "db.execute(\"UPDATE forecasts SET is_latest=0\")\n",
    "db.commit()"
   ]
  },
  {
   "cell_type": "code",
   "execution_count": null,
   "metadata": {
    "collapsed": true
   },
   "outputs": [],
   "source": [
    "db.executemany(\"INSERT INTO forecasts(forecast_datetime, temperature) VALUES(?, ?)\", forecast_tuples)\n",
    "db.commit()"
   ]
  },
  {
   "cell_type": "code",
   "execution_count": null,
   "metadata": {
    "collapsed": false
   },
   "outputs": [],
   "source": [
    "x = pd.read_sql(\"SELECT * FROM forecasts\", db)\n",
    "x.head()"
   ]
  },
  {
   "cell_type": "markdown",
   "metadata": {},
   "source": [
    "# Retrieve"
   ]
  },
  {
   "cell_type": "code",
   "execution_count": 8,
   "metadata": {
    "collapsed": true
   },
   "outputs": [],
   "source": [
    "def get_latest_records(db):\n",
    "    rows = db.execute(\"SELECT forecast_datetime, temperature FROM forecasts\")\n",
    "    for row in rows:\n",
    "        yield (row[0], row[1])"
   ]
  },
  {
   "cell_type": "code",
   "execution_count": 12,
   "metadata": {
    "collapsed": false
   },
   "outputs": [
    {
     "name": "stdout",
     "output_type": "stream",
     "text": [
      "(u'2016-04-07 22:00:00', 58)\n",
      "(u'2016-04-07 23:00:00', 56)\n",
      "(u'2016-04-08 00:00:00', 52)\n",
      "(u'2016-04-08 01:00:00', 50)\n",
      "(u'2016-04-08 02:00:00', 49)\n",
      "(u'2016-04-08 03:00:00', 48)\n",
      "(u'2016-04-08 04:00:00', 47)\n",
      "(u'2016-04-08 05:00:00', 47)\n",
      "(u'2016-04-08 06:00:00', 47)\n",
      "(u'2016-04-08 07:00:00', 46)\n",
      "(u'2016-04-08 08:00:00', 46)\n",
      "(u'2016-04-08 09:00:00', 49)\n",
      "(u'2016-04-08 10:00:00', 53)\n",
      "(u'2016-04-08 11:00:00', 57)\n",
      "(u'2016-04-08 12:00:00', 60)\n",
      "(u'2016-04-08 13:00:00', 61)\n",
      "(u'2016-04-08 14:00:00', 62)\n",
      "(u'2016-04-08 15:00:00', 62)\n",
      "(u'2016-04-08 16:00:00', 63)\n",
      "(u'2016-04-08 17:00:00', 63)\n",
      "(u'2016-04-08 18:00:00', 61)\n",
      "(u'2016-04-08 19:00:00', 59)\n",
      "(u'2016-04-08 20:00:00', 56)\n",
      "(u'2016-04-08 21:00:00', 53)\n",
      "(u'2016-04-08 22:00:00', 51)\n",
      "(u'2016-04-08 23:00:00', 49)\n",
      "(u'2016-04-09 00:00:00', 48)\n",
      "(u'2016-04-09 01:00:00', 46)\n",
      "(u'2016-04-09 02:00:00', 44)\n",
      "(u'2016-04-09 03:00:00', 44)\n",
      "(u'2016-04-09 04:00:00', 43)\n",
      "(u'2016-04-09 05:00:00', 43)\n",
      "(u'2016-04-09 06:00:00', 43)\n",
      "(u'2016-04-09 07:00:00', 43)\n",
      "(u'2016-04-09 08:00:00', 43)\n",
      "(u'2016-04-09 09:00:00', 45)\n",
      "(u'2016-04-07 22:00:00', 58)\n",
      "(u'2016-04-07 23:00:00', 56)\n",
      "(u'2016-04-08 00:00:00', 52)\n",
      "(u'2016-04-08 01:00:00', 50)\n",
      "(u'2016-04-08 02:00:00', 49)\n",
      "(u'2016-04-08 03:00:00', 48)\n",
      "(u'2016-04-08 04:00:00', 47)\n",
      "(u'2016-04-08 05:00:00', 47)\n",
      "(u'2016-04-08 06:00:00', 47)\n",
      "(u'2016-04-08 07:00:00', 46)\n",
      "(u'2016-04-08 08:00:00', 46)\n",
      "(u'2016-04-08 09:00:00', 49)\n",
      "(u'2016-04-08 10:00:00', 53)\n",
      "(u'2016-04-08 11:00:00', 57)\n",
      "(u'2016-04-08 12:00:00', 60)\n",
      "(u'2016-04-08 13:00:00', 61)\n",
      "(u'2016-04-08 14:00:00', 62)\n",
      "(u'2016-04-08 15:00:00', 62)\n",
      "(u'2016-04-08 16:00:00', 63)\n",
      "(u'2016-04-08 17:00:00', 63)\n",
      "(u'2016-04-08 18:00:00', 61)\n",
      "(u'2016-04-08 19:00:00', 59)\n",
      "(u'2016-04-08 20:00:00', 56)\n",
      "(u'2016-04-08 21:00:00', 53)\n",
      "(u'2016-04-08 22:00:00', 51)\n",
      "(u'2016-04-08 23:00:00', 49)\n",
      "(u'2016-04-09 00:00:00', 48)\n",
      "(u'2016-04-09 01:00:00', 46)\n",
      "(u'2016-04-09 02:00:00', 44)\n",
      "(u'2016-04-09 03:00:00', 44)\n",
      "(u'2016-04-09 04:00:00', 43)\n",
      "(u'2016-04-09 05:00:00', 43)\n",
      "(u'2016-04-09 06:00:00', 43)\n",
      "(u'2016-04-09 07:00:00', 43)\n",
      "(u'2016-04-09 08:00:00', 43)\n",
      "(u'2016-04-09 09:00:00', 45)\n"
     ]
    }
   ],
   "source": [
    "for _ in get_latest_records(db):\n",
    "    print _"
   ]
  }
 ],
 "metadata": {
  "kernelspec": {
   "display_name": "Python 2",
   "language": "python",
   "name": "python2"
  },
  "language_info": {
   "codemirror_mode": {
    "name": "ipython",
    "version": 2
   },
   "file_extension": ".py",
   "mimetype": "text/x-python",
   "name": "python",
   "nbconvert_exporter": "python",
   "pygments_lexer": "ipython2",
   "version": "2.7.5"
  }
 },
 "nbformat": 4,
 "nbformat_minor": 0
}
